{
 "cells": [
  {
   "cell_type": "code",
   "execution_count": 3,
   "id": "d3428929-02eb-4448-9ba5-5cdf7f5a7d66",
   "metadata": {},
   "outputs": [
    {
     "name": "stdout",
     "output_type": "stream",
     "text": [
      "[('Sachin Tendulkar', 34357), ('Ricky Ponting', 27483), ('Jack Kallis', 25534), ('Virat Kohli', 24936)]\n",
      "Sorted List:  [('Sachin Tendulkar', 34357), ('Ricky Ponting', 27483), ('Jack Kallis', 25534), ('Virat Kohli', 24936)]\n",
      "original List:  [('Sachin Tendulkar', 34357), ('Ricky Ponting', 27483), ('Jack Kallis', 25534), ('Virat Kohli', 24936)]\n",
      "[('Virat Kohli', 24936), ('Jack Kallis', 25534), ('Ricky Ponting', 27483), ('Sachin Tendulkar', 34357)]\n"
     ]
    }
   ],
   "source": [
    "#Q1. Create a python program to sort the given list of tuples based on integer value using a lambda function.#\n",
    "#Answer.\n",
    "# List of Tuples Declaration\n",
    "Cricketers = [('Sachin Tendulkar', 34357), ('Ricky Ponting', 27483), ('Jack Kallis', 25534), ('Virat Kohli', 24936)]\n",
    "print(Cricketers)\n",
    "\n",
    "newList = sorted(Cricketers, key = lambda x : x[1],reverse=True)\n",
    "print(\"Sorted List: \",newList)\n",
    "print(\"original List: \", Cricketers)\n",
    "\n",
    "# Sorts the list by the item value of the second element of the Tuple\n",
    "SelectCricketers = sorted(Cricketers, key = lambda x : x[1])\n",
    "\n",
    "print(SelectCricketers)\n"
   ]
  },
  {
   "cell_type": "code",
   "execution_count": 39,
   "id": "8c95d1c2-07ea-4174-baae-2b0286b2028d",
   "metadata": {},
   "outputs": [
    {
     "name": "stdout",
     "output_type": "stream",
     "text": [
      "Original list of integers:\n",
      "[1, 2, 3, 4, 5, 6, 7, 8, 9, 10]\n",
      "\n",
      "Square every number of the said list:\n",
      "[1, 4, 9, 16, 25, 36, 49, 64, 81, 100]\n"
     ]
    }
   ],
   "source": [
    "#Q2. Write a Python Program to find the squares of all the numbers in the given list of integers using lambda and map functions.#\n",
    "#Answer.\n",
    "nums = [1, 2, 3, 4, 5, 6, 7, 8, 9, 10]\n",
    "\n",
    "# Display a message indicating that the following output will show the original list of integers\n",
    "print(\"Original list of integers:\")\n",
    "print(nums)\n",
    "\n",
    "# Display a message indicating that the following output will show each number in the list squared\n",
    "print(\"\\nSquare every number of the said list:\")\n",
    "\n",
    "# Use the 'map()' function with a lambda function to square each number in the 'nums' list\n",
    "# Create a new list 'square_nums' containing the squared values of the original list\n",
    "square_nums = list(map(lambda x: x ** 2, nums))\n",
    "print(square_nums)\n",
    "\n",
    "\n"
   ]
  },
  {
   "cell_type": "code",
   "execution_count": 44,
   "id": "d62da22c-71d5-456c-b9ad-0944bf37f42e",
   "metadata": {},
   "outputs": [
    {
     "name": "stdout",
     "output_type": "stream",
     "text": [
      "Original list :  [1, 2, 3, 4, 5, 6, 7, 8, 9, 10]\n",
      "Expected output:  ['1', '2', '3', '4', '5', '6', '7', '8', '9', '10']\n"
     ]
    }
   ],
   "source": [
    "#Q3. Write a python program to convert the given list of integers into a tuple of strings. Use map and\n",
    "#lambda functions\n",
    "#Given String: [1, 2, 3, 4, 5, 6, 7, 8, 9, 10]\n",
    "#Expected output: ('1', '2', '3', '4', '5', '6', '7', '8', '9', '10')#\n",
    "#Answer.\n",
    "given_string = [1,2,3,4,5,6,7,8,9,10]\n",
    "print(\"Original list : \" ,given_string)\n",
    "\n",
    "expected_output = list(map(str, given_string))\n",
    "print(\"Expected output: \" , expected_output) \n",
    "\n",
    "\n"
   ]
  },
  {
   "cell_type": "code",
   "execution_count": 100,
   "id": "38e65898-342f-4fc9-918e-5e9864a50855",
   "metadata": {},
   "outputs": [
    {
     "data": {
      "text/plain": [
       "3102242008666197196800000"
      ]
     },
     "execution_count": 100,
     "metadata": {},
     "output_type": "execute_result"
    }
   ],
   "source": [
    "#Q4. Write a python program using reduce function to compute the product of a list containing numbers from 1 to 25.#\n",
    "#Answer.\n",
    "from functools import reduce\n",
    "l = [1,2,3,4,6,7,8,9,10,11,12,13,14,15,16,17,18,19,20,21,22,23,24,25]\n",
    "reduce((lambda x, y: x*y),l)\n"
   ]
  },
  {
   "cell_type": "code",
   "execution_count": 116,
   "id": "07a6c708-ed57-41a7-93b3-7b252d856b8e",
   "metadata": {},
   "outputs": [
    {
     "data": {
      "text/plain": [
       "[2, 6, 60, 90, 120, 46]"
      ]
     },
     "execution_count": 116,
     "metadata": {},
     "output_type": "execute_result"
    }
   ],
   "source": [
    "#Q5. Write a python program to filter the numbers in a given list that are divisible by 2 and 3 using the filter function.\n",
    "#Answer\n",
    "\n",
    "l = [2, 3, 6, 9, 27, 60, 90, 120, 55, 46]\n",
    "\n",
    "list(filter(lambda x : x%2==0, l) )\n"
   ]
  },
  {
   "cell_type": "code",
   "execution_count": 115,
   "id": "ae6ac55d-6f81-4a8e-a9a4-c4755e67e4d3",
   "metadata": {},
   "outputs": [
    {
     "data": {
      "text/plain": [
       "[3, 6, 9, 27, 60, 90, 120]"
      ]
     },
     "execution_count": 115,
     "metadata": {},
     "output_type": "execute_result"
    }
   ],
   "source": [
    "list(filter(lambda x : x%3==0,l) )"
   ]
  },
  {
   "cell_type": "code",
   "execution_count": 117,
   "id": "6367c56f-30d9-4177-acc7-f84c18cc9ba7",
   "metadata": {},
   "outputs": [
    {
     "data": {
      "text/plain": [
       "['php', 'aba', 'radar', 'level']"
      ]
     },
     "execution_count": 117,
     "metadata": {},
     "output_type": "execute_result"
    }
   ],
   "source": [
    "#Q6. Write a python program to find palindromes in the given list of strings using lambda and filter function.\n",
    "#Answer.\n",
    "\n",
    "l = ['python', 'php', 'aba', 'radar', 'level']\n",
    "list(filter(lambda x: (x == \"\".join(reversed(x))), l))\n"
   ]
  },
  {
   "cell_type": "code",
   "execution_count": null,
   "id": "e85557d7-c969-4e4b-8a1d-1d5083721748",
   "metadata": {},
   "outputs": [],
   "source": []
  }
 ],
 "metadata": {
  "kernelspec": {
   "display_name": "Python 3 (ipykernel)",
   "language": "python",
   "name": "python3"
  },
  "language_info": {
   "codemirror_mode": {
    "name": "ipython",
    "version": 3
   },
   "file_extension": ".py",
   "mimetype": "text/x-python",
   "name": "python",
   "nbconvert_exporter": "python",
   "pygments_lexer": "ipython3",
   "version": "3.10.8"
  }
 },
 "nbformat": 4,
 "nbformat_minor": 5
}
